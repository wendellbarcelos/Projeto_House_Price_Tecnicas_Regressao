{
 "cells": [
  {
   "cell_type": "markdown",
   "id": "9ab1f7a6",
   "metadata": {},
   "source": [
    "# House Prices - Advanced Regression Techniques\n",
    "(Preços de casas - Técnicas Avançadas de Regressão)\n",
    "\n",
    "<img src=\"https://storage.googleapis.com/kaggle-competitions/kaggle/5407/media/housesbanner.png\" width=800>\n",
    "\n",
    "\n",
    "- Vamos utilizar o [dataset disponível no Kaggle](https://www.kaggle.com/competitions/house-prices-advanced-regression-techniques/overview)\n",
    "    - É um dataset de **competição**\n",
    "    - Temos uma base com a **descrição de cada uma das colunas (data_description.txt)**"
   ]
  },
  {
   "cell_type": "code",
   "execution_count": null,
   "id": "0233c934",
   "metadata": {},
   "outputs": [],
   "source": [
    "# Importando o pandas"
   ]
  },
  {
   "cell_type": "code",
   "execution_count": null,
   "id": "3c8d95e7",
   "metadata": {},
   "outputs": [],
   "source": [
    "# Importando o dataset de treino"
   ]
  },
  {
   "cell_type": "code",
   "execution_count": null,
   "id": "bfd24d0c",
   "metadata": {},
   "outputs": [],
   "source": [
    "# Visualizando essa base"
   ]
  },
  {
   "cell_type": "code",
   "execution_count": null,
   "id": "3bbab431",
   "metadata": {},
   "outputs": [],
   "source": [
    "# Retornando o shape da base"
   ]
  },
  {
   "cell_type": "code",
   "execution_count": null,
   "id": "ba3f0cd6",
   "metadata": {},
   "outputs": [],
   "source": [
    "# E as informações"
   ]
  },
  {
   "cell_type": "markdown",
   "id": "2db0cfd3",
   "metadata": {},
   "source": [
    "## Começando a explorar os dados"
   ]
  },
  {
   "cell_type": "code",
   "execution_count": null,
   "id": "b6528772",
   "metadata": {},
   "outputs": [],
   "source": [
    "# Visualizando quantidade de valores vazios"
   ]
  },
  {
   "cell_type": "code",
   "execution_count": null,
   "id": "bda71526",
   "metadata": {},
   "outputs": [],
   "source": [
    "# Podemos eliminar as colunas com mais de 10% de valores vazios"
   ]
  },
  {
   "cell_type": "code",
   "execution_count": null,
   "id": "ff97453f",
   "metadata": {},
   "outputs": [],
   "source": [
    "# Eliminando essas colunas\n",
    "treino = treino.drop(eliminar,axis=1)"
   ]
  },
  {
   "cell_type": "markdown",
   "id": "7e83cd85",
   "metadata": {},
   "source": [
    "- Queremos criar um primeiro modelo para verificar o quanto estamos errando e depois planejar como melhorar. Para isso:\n",
    "    - Vamos **eliminar as colunas de texto**\n",
    "    - Precisamos **tratar os valores vazios**\n",
    "    - Vamos **escolher alguns algoritmos para testar e um método de avaliação de erro**"
   ]
  },
  {
   "cell_type": "code",
   "execution_count": null,
   "id": "572df872",
   "metadata": {},
   "outputs": [],
   "source": [
    "# Selecionando apenas as colunas numéricas"
   ]
  },
  {
   "cell_type": "code",
   "execution_count": null,
   "id": "2bd4e288",
   "metadata": {},
   "outputs": [],
   "source": [
    "# E criar uma nova base com esses valores"
   ]
  },
  {
   "cell_type": "code",
   "execution_count": null,
   "id": "3718a7dd",
   "metadata": {},
   "outputs": [],
   "source": [
    "# Verificando os valores vazios"
   ]
  },
  {
   "cell_type": "code",
   "execution_count": null,
   "id": "4a656932",
   "metadata": {},
   "outputs": [],
   "source": [
    "# Substituindo os valores vazios por -1"
   ]
  },
  {
   "cell_type": "markdown",
   "id": "3fe0ffdf",
   "metadata": {},
   "source": [
    "- Essa será nossa base inicial para começar"
   ]
  },
  {
   "cell_type": "markdown",
   "id": "5a686ce6",
   "metadata": {},
   "source": [
    "## Criando nosso modelo"
   ]
  },
  {
   "cell_type": "markdown",
   "id": "ee0b769c",
   "metadata": {},
   "source": [
    "- **Vamos separar em treino e teste**\n",
    "    - https://scikit-learn.org/stable/modules/generated/sklearn.model_selection.train_test_split.html"
   ]
  },
  {
   "cell_type": "code",
   "execution_count": null,
   "id": "7f7b8193",
   "metadata": {},
   "outputs": [],
   "source": [
    "# Selecionando X e y"
   ]
  },
  {
   "cell_type": "code",
   "execution_count": null,
   "id": "149956b5",
   "metadata": {},
   "outputs": [],
   "source": [
    "# Importando o train_test_split"
   ]
  },
  {
   "cell_type": "code",
   "execution_count": null,
   "id": "6ec49ce2",
   "metadata": {},
   "outputs": [],
   "source": [
    "# Separando essa base em treino e teste"
   ]
  },
  {
   "cell_type": "markdown",
   "id": "72614e5e",
   "metadata": {},
   "source": [
    "- **O próximo passo é selecionar os algoritmos que vamos utilizar. Podemos começar com os algoritmos mais simples como:**\n",
    "    - Regressão Linear\n",
    "        - https://scikit-learn.org/stable/modules/generated/sklearn.linear_model.LinearRegression.html\n",
    "    - Árvore de Regressão\n",
    "        - https://scikit-learn.org/stable/modules/tree.html#regression\n",
    "    - KNeighborsRegressor\n",
    "        - https://scikit-learn.org/stable/modules/generated/sklearn.neighbors.KNeighborsRegressor.html#sklearn.neighbors.KNeighborsRegressor"
   ]
  },
  {
   "cell_type": "code",
   "execution_count": null,
   "id": "50bf2902",
   "metadata": {},
   "outputs": [],
   "source": [
    "# Importando a regressão linear"
   ]
  },
  {
   "cell_type": "code",
   "execution_count": null,
   "id": "76235128",
   "metadata": {},
   "outputs": [],
   "source": [
    "# Criando o regressor e fazendo o fit com os dados de treino"
   ]
  },
  {
   "cell_type": "code",
   "execution_count": null,
   "id": "581ebb2d",
   "metadata": {},
   "outputs": [],
   "source": [
    "# Fazendo a previsão pros dados de teste"
   ]
  },
  {
   "cell_type": "code",
   "execution_count": null,
   "id": "1bfbbbdf",
   "metadata": {},
   "outputs": [],
   "source": [
    "# Importando a árvore de regressão"
   ]
  },
  {
   "cell_type": "code",
   "execution_count": null,
   "id": "b4bacf9b",
   "metadata": {},
   "outputs": [],
   "source": [
    "# Criando o regressor e fazendo o fit com os dados de treino"
   ]
  },
  {
   "cell_type": "code",
   "execution_count": null,
   "id": "8f44b273",
   "metadata": {},
   "outputs": [],
   "source": [
    "# Fazendo a previsão"
   ]
  },
  {
   "cell_type": "code",
   "execution_count": null,
   "id": "a2286fb9",
   "metadata": {},
   "outputs": [],
   "source": [
    "# Importando o KNN"
   ]
  },
  {
   "cell_type": "code",
   "execution_count": null,
   "id": "11210713",
   "metadata": {},
   "outputs": [],
   "source": [
    "# Criando o regressor e fazendo o fit com os dados de treino"
   ]
  },
  {
   "cell_type": "code",
   "execution_count": null,
   "id": "b337d25a",
   "metadata": {},
   "outputs": [],
   "source": [
    "# Fazendo a previsão"
   ]
  },
  {
   "cell_type": "markdown",
   "id": "fdd63bff",
   "metadata": {},
   "source": [
    "- **E avaliar esses dados, utilizando tanto o erro absoluto quanto o quadrático:**\n",
    "    - Erro médio absoluto\n",
    "        - https://scikit-learn.org/stable/modules/generated/sklearn.metrics.mean_absolute_error.html\n",
    "    - Erro quadrático médio\n",
    "        - https://scikit-learn.org/stable/modules/generated/sklearn.metrics.mean_squared_error.html"
   ]
  },
  {
   "cell_type": "code",
   "execution_count": null,
   "id": "269a3bcd",
   "metadata": {},
   "outputs": [],
   "source": [
    "# Importando o erro médio absoluto"
   ]
  },
  {
   "cell_type": "code",
   "execution_count": null,
   "id": "12eb2132",
   "metadata": {},
   "outputs": [],
   "source": [
    "# E o erro quadrático médio"
   ]
  },
  {
   "cell_type": "code",
   "execution_count": null,
   "id": "14769a7a",
   "metadata": {},
   "outputs": [],
   "source": [
    "# Avaliando o erro da regressão"
   ]
  },
  {
   "cell_type": "code",
   "execution_count": null,
   "id": "2417d97e",
   "metadata": {},
   "outputs": [],
   "source": [
    "# da árvore de decisão"
   ]
  },
  {
   "cell_type": "code",
   "execution_count": null,
   "id": "b3159911",
   "metadata": {},
   "outputs": [],
   "source": [
    "# e do knn"
   ]
  },
  {
   "cell_type": "markdown",
   "id": "162028e9",
   "metadata": {},
   "source": [
    "- **Podemos plotar visualmente a relação do y_test com as previsões feitas**\n",
    "    - Para isso vamos utilizar o matplotlib\n",
    "        - https://matplotlib.org/"
   ]
  },
  {
   "cell_type": "code",
   "execution_count": null,
   "id": "7e5f78f8",
   "metadata": {},
   "outputs": [],
   "source": [
    "# Importando o matplotlib\n",
    "import matplotlib.pyplot as plt"
   ]
  },
  {
   "cell_type": "code",
   "execution_count": null,
   "id": "a6bf59eb",
   "metadata": {},
   "outputs": [],
   "source": [
    "# Criando esse gráfico\n",
    "fig, ax = plt.subplots(ncols=3,figsize=(15,5))\n",
    "\n",
    "ax[0].scatter(y_test/100000,y_reg/100000)\n",
    "ax[0].plot([0,700000],[0,700000],'--r')\n",
    "ax[1].scatter(y_test/100000,y_arvore/100000)\n",
    "ax[1].plot([0,700000],[0,700000],'--r')\n",
    "ax[2].scatter(y_test/100000,y_neigh/100000)\n",
    "ax[2].plot([0,700000],[0,700000],'--r')\n",
    "\n",
    "ax[0].set(xlim=(0, 7),ylim=(0, 7))\n",
    "ax[0].set_xlabel('Real')\n",
    "ax[0].set_ylabel('Previsão')\n",
    "ax[1].set(xlim=(0, 7),ylim=(0, 7))\n",
    "ax[1].set_xlabel('Real')\n",
    "ax[1].set_ylabel('Previsão')\n",
    "ax[2].set(xlim=(0, 7),ylim=(0, 7))\n",
    "ax[2].set_xlabel('Real')\n",
    "ax[2].set_ylabel('Previsão')\n",
    "\n",
    "plt.show()"
   ]
  },
  {
   "cell_type": "markdown",
   "id": "e262938a",
   "metadata": {},
   "source": [
    "- **Vamos utilizar a Regressão Linear por ter sido o algoritmo com menor erro quadrático médio, a mesma métrica avaliada pelo Kaggle na hora de classificar os modelos**"
   ]
  },
  {
   "cell_type": "markdown",
   "id": "d855508c",
   "metadata": {},
   "source": [
    "## Fazendo a previsão para a base de teste da competição"
   ]
  },
  {
   "cell_type": "code",
   "execution_count": null,
   "id": "8d98c739",
   "metadata": {},
   "outputs": [],
   "source": [
    "# Importando a base de teste"
   ]
  },
  {
   "cell_type": "code",
   "execution_count": null,
   "id": "83a9ca6f",
   "metadata": {},
   "outputs": [],
   "source": [
    "# Visualizando a base"
   ]
  },
  {
   "cell_type": "markdown",
   "id": "c78b0e24",
   "metadata": {},
   "source": [
    "- **Agora vamos repetir os mesmos tratamentos que fizemos na base de treino**\n",
    "    - Obs: **não podemos excluir linhas**"
   ]
  },
  {
   "cell_type": "code",
   "execution_count": null,
   "id": "ffe3cade",
   "metadata": {},
   "outputs": [],
   "source": [
    "# Eliminando as mesmas colunas da base de treino"
   ]
  },
  {
   "cell_type": "code",
   "execution_count": null,
   "id": "cfce9334",
   "metadata": {},
   "outputs": [],
   "source": [
    "# Verificando as colunas numéricas"
   ]
  },
  {
   "cell_type": "code",
   "execution_count": null,
   "id": "f1cab80b",
   "metadata": {},
   "outputs": [],
   "source": [
    "# Mantendo também apenas as colunas numéricas"
   ]
  },
  {
   "cell_type": "code",
   "execution_count": null,
   "id": "eb322627",
   "metadata": {},
   "outputs": [],
   "source": [
    "# Verificando a base restante"
   ]
  },
  {
   "cell_type": "code",
   "execution_count": null,
   "id": "194b4c8a",
   "metadata": {},
   "outputs": [],
   "source": [
    "# Visualizando quantidade de valores vazios"
   ]
  },
  {
   "cell_type": "markdown",
   "id": "604cfd7e",
   "metadata": {},
   "source": [
    "- **Vamos precisar retirar os valores vazios pois a regressão linear não vai conseguir trabalhar com valores vazio**\n",
    "    - Se tentarmos usar essa base, ele vai retornar um **erro** dizendo que o **input possui valores NaN**\n",
    "- Podemos apenas substituir por -1 como fizemos acima"
   ]
  },
  {
   "cell_type": "code",
   "execution_count": null,
   "id": "77fdbe03",
   "metadata": {},
   "outputs": [],
   "source": [
    "# Substituindo os valores vazios por -1"
   ]
  },
  {
   "cell_type": "markdown",
   "id": "db767eed",
   "metadata": {},
   "source": [
    "- **Agora podemos usar nosso modelo e ajustar os dados para usarmos no Kaggle**"
   ]
  },
  {
   "cell_type": "code",
   "execution_count": null,
   "id": "9b09d278",
   "metadata": {},
   "outputs": [],
   "source": [
    "# Vamos usar o knn para fazer a previsão"
   ]
  },
  {
   "cell_type": "code",
   "execution_count": null,
   "id": "511117c5",
   "metadata": {},
   "outputs": [],
   "source": [
    "# Podemos adicionar essa coluna de previsão na nossa base"
   ]
  },
  {
   "cell_type": "code",
   "execution_count": null,
   "id": "bc1fd647",
   "metadata": {},
   "outputs": [],
   "source": [
    "# E extrair somente o Id e o SalePrice"
   ]
  },
  {
   "cell_type": "code",
   "execution_count": null,
   "id": "9513b665",
   "metadata": {},
   "outputs": [],
   "source": [
    "# Podemos então exportar essa base"
   ]
  },
  {
   "cell_type": "markdown",
   "id": "06034ac0",
   "metadata": {},
   "source": [
    "- **Próximos passos**\n",
    "    - Você pode tentar melhorar a limpeza dos seus dados \n",
    "        - [Limpeza de Dados em um Dataset Real - Dados do Titanic](https://www.youtube.com/watch?v=RuDxj894BXQ&t=1218s)\n",
    "    - Depois é possível fazer a engenharia de recursos\n",
    "        - [Feature Engineering em Python para Seus Projetos de Ciência de Dados](https://www.youtube.com/watch?v=rigZ7HdfWaM&t=61s)\n",
    "    - A padronização / normalização dos dados\n",
    "        - [Padronização e Normalização de Dados para Ciência de Dados](https://www.youtube.com/watch?v=L6rLSYVBfyM&t=12s)\n",
    "    - E até a seleção de variáveis\n",
    "        - [Seleção de Recursos (Feature Selection) em Projetos de Ciência de Dados](https://www.youtube.com/watch?v=0yM07AURFRY&t=615s)"
   ]
  }
 ],
 "metadata": {
  "kernelspec": {
   "display_name": "Python 3 (ipykernel)",
   "language": "python",
   "name": "python3"
  },
  "language_info": {
   "codemirror_mode": {
    "name": "ipython",
    "version": 3
   },
   "file_extension": ".py",
   "mimetype": "text/x-python",
   "name": "python",
   "nbconvert_exporter": "python",
   "pygments_lexer": "ipython3",
   "version": "3.10.9"
  }
 },
 "nbformat": 4,
 "nbformat_minor": 5
}
